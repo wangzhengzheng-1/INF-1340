{
 "cells": [
  {
   "cell_type": "markdown",
   "metadata": {
    "id": "rxVBcKBhjMyV"
   },
   "source": [
    "## Assignment 2"
   ]
  },
  {
   "cell_type": "markdown",
   "metadata": {
    "id": "77HuNsBKtsH_"
   },
   "source": [
    "Please, reach out to Zohreh if you have any question. You can complete and submit this notebook file. \n"
   ]
  },
  {
   "cell_type": "markdown",
   "metadata": {
    "id": "JiLHsb68jP4J"
   },
   "source": [
    "### Q1. Write a function to take the paragraph below as an input argument, and return a dictionary with alphabetic letters and number of them in the pragraph."
   ]
  },
  {
   "cell_type": "markdown",
   "metadata": {
    "id": "1qGh-te8k6ec"
   },
   "source": [
    "Languages that support classes almost always support inheritance. This allows classes to be arranged in a hierarchy that represents \"is-a-type-of\" relationships. For example, class Employee might inherit from class Person. All the data and methods available to the parent class also appear in the child class with the same names. For example, class Person might define variables \"first_name\" and \"last_name\" with method \"make_full_name()\". These will also be available in class Employee, which might add the variables \"position\" and \"salary\". This technique allows easy re-use of the same procedures and data definitions, in addition to potentially mirroring real-world relationships in an intuitive way. Rather than utilizing database tables and programming subroutines, the developer utilizes objects the user may be more familiar with: objects from their application domain."
   ]
  },
  {
   "cell_type": "code",
   "execution_count": 29,
   "metadata": {
    "id": "i9A5fhFljO0a"
   },
   "outputs": [],
   "source": [
    "def dictfun(x):\n",
    "    x.lower()\n",
    "    counta=x.count('a')\n",
    "    countb=x.count('b')\n",
    "    countc=x.count('c')\n",
    "    countd=x.count('d')\n",
    "    counte=x.count('e')\n",
    "    countf=x.count('f')\n",
    "    countg=x.count('g')\n",
    "    counth=x.count('h')\n",
    "    counti=x.count('i')\n",
    "    countj=x.count('j')\n",
    "    countk=x.count('k')\n",
    "    countl=x.count('l')\n",
    "    countm=x.count('m')\n",
    "    countn=x.count('n')\n",
    "    counto=x.count('o')\n",
    "    countp=x.count('p')\n",
    "    countq=x.count('q')\n",
    "    countr=x.count('r')\n",
    "    counts=x.count('s')\n",
    "    countt=x.count('t')\n",
    "    countu=x.count('u')\n",
    "    countv=x.count('v')\n",
    "    countw=x.count('w')\n",
    "    countx=x.count('x')\n",
    "    county=x.count('y')\n",
    "    countz=x.count('z')\n",
    "    letters=['a','b','c','d','e','f','g','h','i','j','k','l','m','n','o','p','q','r','s','t','u','v','w','x','y','z']\n",
    "    count=[counta,countb,countc,countd,counte,countf,countg,counth,counti,countj,countk,countl,countm,countn,counto,countp,\n",
    "           countq,countr,counts,countt,countu,countv,countw,countx,county,countz]\n",
    "    dictionary=dict(zip(letters,count))\n",
    "    return dictionary"
   ]
  },
  {
   "cell_type": "code",
   "execution_count": 30,
   "metadata": {},
   "outputs": [
    {
     "data": {
      "text/plain": [
       "{'a': 81,\n",
       " 'b': 12,\n",
       " 'c': 17,\n",
       " 'd': 22,\n",
       " 'e': 78,\n",
       " 'f': 9,\n",
       " 'g': 10,\n",
       " 'h': 34,\n",
       " 'i': 59,\n",
       " 'j': 2,\n",
       " 'k': 1,\n",
       " 'l': 47,\n",
       " 'm': 26,\n",
       " 'n': 41,\n",
       " 'o': 40,\n",
       " 'p': 22,\n",
       " 'q': 1,\n",
       " 'r': 41,\n",
       " 's': 61,\n",
       " 't': 56,\n",
       " 'u': 13,\n",
       " 'v': 6,\n",
       " 'w': 10,\n",
       " 'x': 2,\n",
       " 'y': 10,\n",
       " 'z': 2}"
      ]
     },
     "execution_count": 30,
     "metadata": {},
     "output_type": "execute_result"
    }
   ],
   "source": [
    "dictfun('Languages that support classes almost always support inheritance. This allows classes to be arranged in a hierarchy that represents \"is-a-type-of\" relationships. For example, class Employee might inherit from class Person. All the data and methods available to the parent class also appear in the child class with the same names. For example, class Person might define variables \"first_name\" and \"last_name\" with method \"make_full_name()\". These will also be available in class Employee, which might add the variables \"position\" and \"salary\". This technique allows easy re-use of the same procedures and data definitions, in addition to potentially mirroring real-world relationships in an intuitive way. Rather than utilizing database tables and programming subroutines, the developer utilizes objects the user may be more familiar with: objects from their application domain.')"
   ]
  },
  {
   "cell_type": "markdown",
   "metadata": {
    "id": "hLvzkkaZkAnP"
   },
   "source": [
    "### Q2. Write a function to take a list of random numbers. And then return the sorted list."
   ]
  },
  {
   "cell_type": "markdown",
   "metadata": {
    "id": "oe3ujiiUlHpG"
   },
   "source": [
    "You shouldn't use buit-in functions for sorting in this question.\n",
    "\n",
    "You can use any sorting algorithm, feel free to search for them. Selection sort, bubble sort, insertion sort are recommended because of simplicity."
   ]
  },
  {
   "cell_type": "code",
   "execution_count": 1,
   "metadata": {
    "id": "Ezq3kNd-kbad"
   },
   "outputs": [],
   "source": [
    "def sorting(x):\n",
    "    y=[]\n",
    "    for i in range(0,len(x)-1):\n",
    "        idx=i\n",
    "        for j in range(i+1,len(x)):\n",
    "          if x[idx]>=x[j]:\n",
    "            t=x[j]\n",
    "            x[j]=x[idx]\n",
    "            x[idx]=t\n",
    "        idx=j\n",
    "    return x"
   ]
  },
  {
   "cell_type": "code",
   "execution_count": 3,
   "metadata": {},
   "outputs": [
    {
     "data": {
      "text/plain": [
       "[0, 1, 2, 2, 4, 7, 8, 8, 9, 11, 15]"
      ]
     },
     "execution_count": 3,
     "metadata": {},
     "output_type": "execute_result"
    }
   ],
   "source": [
    "sorting([2,1,11,7,2,8,9,8,15,4,0])"
   ]
  },
  {
   "cell_type": "markdown",
   "metadata": {
    "id": "P9b2dc4TmLdt"
   },
   "source": [
    "### Q3. Write a function to take a number like *list_size* as an input and return a sorted list of random integer numbers between 1 and 100 with the size of *list_size*. Besides, this function has to create a text file and write these generated sorted numbers into the file."
   ]
  },
  {
   "cell_type": "markdown",
   "metadata": {
    "id": "tGBMPiCDnuj0"
   },
   "source": [
    "For this question, you are able to use built-in functions for sorting or the function you have defined in the previous question (if it works properly).\n",
    "\n",
    "You can use random library to generate random numbers."
   ]
  },
  {
   "cell_type": "code",
   "execution_count": 4,
   "metadata": {
    "id": "2IF_eRTwnr6q"
   },
   "outputs": [],
   "source": [
    "import numpy as np\n",
    "def ranlist(list_size):\n",
    "    list=np.random.randint(1,100,list_size)\n",
    "    sorted=sorting(list)\n",
    "    f=open(\"sorted_number\",\"w\")\n",
    "    for i in sorted:\n",
    "       f.write(\"%s \" % i)\n",
    "    f.close\n",
    "    return sorted"
   ]
  },
  {
   "cell_type": "code",
   "execution_count": 6,
   "metadata": {},
   "outputs": [
    {
     "data": {
      "text/plain": [
       "array([10, 33, 33, 61, 86])"
      ]
     },
     "execution_count": 6,
     "metadata": {},
     "output_type": "execute_result"
    }
   ],
   "source": [
    "ranlist(5)"
   ]
  },
  {
   "cell_type": "markdown",
   "metadata": {
    "id": "6_k_bnQUpMdj"
   },
   "source": [
    "### Q4. Write a function without any output. The function should take an integer number and **print** all of its prime factors (if the input number is not integer, it should print a related error)."
   ]
  },
  {
   "cell_type": "markdown",
   "metadata": {
    "id": "ODMN3mU7stPe"
   },
   "source": [
    "For example:\n",
    "\n",
    "input: 12    ->   print: 2, 3\n",
    "\n",
    "input: 40    ->   print: 2, 5\n",
    "\n",
    "input: 4.5   ->   print: wrong input\n",
    "\n",
    "It would be helpful to define and use another function to find out if a number is prime or not."
   ]
  },
  {
   "cell_type": "code",
   "execution_count": 11,
   "metadata": {
    "id": "iVYBagX9ssjr"
   },
   "outputs": [],
   "source": [
    "def prime(x):\n",
    "    if isinstance(x,int):\n",
    "        i = 2\n",
    "        factors = []\n",
    "        while i * i <= x:\n",
    "          if x % i:\n",
    "            i =i+1\n",
    "          else:\n",
    "            x //= i\n",
    "            factors.append(i)\n",
    "        if x > 1:\n",
    "            factors.append(x)\n",
    "        print(set(factors)) \n",
    "    if isinstance(x,float):\n",
    "        print('wrong input')"
   ]
  },
  {
   "cell_type": "code",
   "execution_count": 12,
   "metadata": {},
   "outputs": [
    {
     "name": "stdout",
     "output_type": "stream",
     "text": [
      "{2, 3}\n"
     ]
    }
   ],
   "source": [
    "prime(12)"
   ]
  },
  {
   "cell_type": "code",
   "execution_count": 14,
   "metadata": {},
   "outputs": [
    {
     "name": "stdout",
     "output_type": "stream",
     "text": [
      "{2, 5}\n"
     ]
    }
   ],
   "source": [
    "prime(40)"
   ]
  },
  {
   "cell_type": "code",
   "execution_count": 15,
   "metadata": {},
   "outputs": [
    {
     "name": "stdout",
     "output_type": "stream",
     "text": [
      "wrong input\n"
     ]
    }
   ],
   "source": [
    "prime(4.5)"
   ]
  },
  {
   "cell_type": "code",
   "execution_count": null,
   "metadata": {},
   "outputs": [],
   "source": []
  }
 ],
 "metadata": {
  "colab": {
   "name": "Assignment 2.ipynb",
   "provenance": []
  },
  "kernelspec": {
   "display_name": "Python 3",
   "language": "python",
   "name": "python3"
  },
  "language_info": {
   "codemirror_mode": {
    "name": "ipython",
    "version": 3
   },
   "file_extension": ".py",
   "mimetype": "text/x-python",
   "name": "python",
   "nbconvert_exporter": "python",
   "pygments_lexer": "ipython3",
   "version": "3.7.4"
  }
 },
 "nbformat": 4,
 "nbformat_minor": 4
}
