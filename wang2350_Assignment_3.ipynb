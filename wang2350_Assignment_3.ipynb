{
 "cells": [
  {
   "cell_type": "markdown",
   "metadata": {
    "id": "nOk8dZ38PMAu"
   },
   "source": [
    "In this assignment, you can use any built-in function and any method or function in Numpy or Pandas package.\n",
    "\n",
    "Please, preferably post your questions in discussion board after checking existing messages. Zohreh will answer your questions there."
   ]
  },
  {
   "cell_type": "markdown",
   "metadata": {
    "id": "L-JNtbHYZHFl"
   },
   "source": [
    "## Q1. \n",
    "\n",
    "Create an array of 10 numbers equally spaced between 1 and 100.\n",
    "\n",
    "Then, print sin and cos of all array numbers (np.sin() & np.cos())\n",
    "\n",
    "Then, calculate square of sin plus square of cos for all array numbers and save and assign it to another numpy array. Finally, print this numpy array (Calculate sin(x)^2 + cos(x)^2, x being each member of random array)."
   ]
  },
  {
   "cell_type": "code",
   "execution_count": 3,
   "metadata": {
    "id": "Hl2uV9xUZ7zC"
   },
   "outputs": [
    {
     "name": "stdout",
     "output_type": "stream",
     "text": [
      "[ 0.84147098 -0.53657292 -0.8462204   0.52908269  0.85090352 -0.521551\n",
      " -0.85551998  0.51397846  0.86006941 -0.50636564]\n"
     ]
    }
   ],
   "source": [
    "import numpy as np\n",
    "array1=np.array(np.linspace(1,100,10))\n",
    "print(np.sin(array1))"
   ]
  },
  {
   "cell_type": "code",
   "execution_count": 4,
   "metadata": {},
   "outputs": [
    {
     "name": "stdout",
     "output_type": "stream",
     "text": [
      "[ 0.54030231  0.84385396 -0.53283302 -0.84857027  0.52532199  0.85322011\n",
      " -0.5177698  -0.85780309  0.51017704  0.86231887]\n"
     ]
    }
   ],
   "source": [
    "print(np.cos(array1))"
   ]
  },
  {
   "cell_type": "code",
   "execution_count": 5,
   "metadata": {},
   "outputs": [
    {
     "name": "stdout",
     "output_type": "stream",
     "text": [
      "[1. 1. 1. 1. 1. 1. 1. 1. 1. 1.]\n"
     ]
    }
   ],
   "source": [
    "array2=np.sin(array1)**2+np.cos(array1)**2\n",
    "print(array2)"
   ]
  },
  {
   "cell_type": "markdown",
   "metadata": {
    "id": "15oIGCnEaP3-"
   },
   "source": [
    "### Q2.\n",
    "\n",
    "Define a function to replicate what np.random.randint does by using np.random.rand method. \n",
    "\n",
    "This function should take three inputs (array_size, int_start, int_end), and return an array (with a lenght of array_size) of random integer numbers between int_start and int_end (including int_start and excluding int_end).\n",
    "\n",
    "\n",
    "Example:\n",
    "\n",
    "replicate_of_randint(6, -3, 3)  ->  array([1, 2, -1, -3, 2, -2])\n"
   ]
  },
  {
   "cell_type": "code",
   "execution_count": 19,
   "metadata": {
    "id": "zxNEvUbyaiHW"
   },
   "outputs": [],
   "source": [
    "import numpy as np\n",
    "def replicate_of_randint(array_size,int_start,int_end):\n",
    "    return np.floor((int_end-int_start)*np.random.rand(array_size)+int_start)"
   ]
  },
  {
   "cell_type": "code",
   "execution_count": 20,
   "metadata": {},
   "outputs": [
    {
     "data": {
      "text/plain": [
       "array([-3.,  2., -1., -1., -2., -3.])"
      ]
     },
     "execution_count": 20,
     "metadata": {},
     "output_type": "execute_result"
    }
   ],
   "source": [
    "replicate_of_randint(6, -3, 3)"
   ]
  },
  {
   "cell_type": "markdown",
   "metadata": {
    "id": "sEweJCoeigIz"
   },
   "source": [
    "### Q3. \n",
    "\n",
    "Create two arrays of 10 **uniformly** distributed random float numbers between 0 and 1, and 10 **normally** distributed random float numbers between 0 and 1. Then, calculate and print these:\n",
    "\n",
    "Count and print numbers that are higher than 0.5 and those that are lower than 0.5 for each array.\n",
    "\n",
    "Print mean, median, and standard deviation of each array.\n",
    "\n",
    "Print max and min of each array.\n",
    "\n",
    "Finally, try the same things with arrays of 100 numbers and arrays of 1000 numbers. Explain what are the differences between normally and uniformally distributed arrays."
   ]
  },
  {
   "cell_type": "code",
   "execution_count": 47,
   "metadata": {
    "id": "DeUUUwVYvdpG"
   },
   "outputs": [
    {
     "name": "stdout",
     "output_type": "stream",
     "text": [
      "There are 7 numbers are higher than 0.5 for arr1:\n",
      "[0.89465394 0.80931666 0.51972672 0.83100894 0.98771632 0.98064269\n",
      " 0.76201595]\n",
      "There are 3 numbers are lower than 0.5 for arr1:\n",
      "[0.23987926 0.42259026 0.4788541 ]\n"
     ]
    }
   ],
   "source": [
    "#10 random numbers\n",
    "import numpy as np\n",
    "arr1=np.random.rand(10)\n",
    "arr2=np.random.randn(10)\n",
    "print(\"There are %d numbers are higher than 0.5 for arr1:\"  % len(arr1[arr1>0.5]))\n",
    "print(arr1[arr1>0.5])\n",
    "print(\"There are %d numbers are lower than 0.5 for arr1:\"  % len(arr1[arr1<0.5]))\n",
    "print(arr1[arr1<0.5])"
   ]
  },
  {
   "cell_type": "code",
   "execution_count": 48,
   "metadata": {},
   "outputs": [
    {
     "name": "stdout",
     "output_type": "stream",
     "text": [
      "There are 2 numbers are higher than 0.5 for arr2:\n",
      "[0.88766915 0.65898917]\n",
      "There are 8 numbers are lower than 0.5 for arr2:\n",
      "[-1.15890412 -0.33082543 -1.43615535 -1.57788729 -1.446054   -1.78476373\n",
      " -2.0259264  -0.48975309]\n"
     ]
    }
   ],
   "source": [
    "print(\"There are %d numbers are higher than 0.5 for arr2:\"  % len(arr2[arr2>0.5]))\n",
    "print(arr2[arr2>0.5])\n",
    "print(\"There are %d numbers are lower than 0.5 for arr2:\"  % len(arr2[arr2<0.5]))\n",
    "print(arr2[arr2<0.5])"
   ]
  },
  {
   "cell_type": "code",
   "execution_count": 49,
   "metadata": {},
   "outputs": [
    {
     "name": "stdout",
     "output_type": "stream",
     "text": [
      "Mean for arr1 is: 0.6926404845411838\n",
      "Median for arr1 is: 0.7856663078033297\n",
      "Std for arr1 is: 0.2453406217166602\n",
      "Maximum for arr1 is: 0.9877163183044644\n",
      "Minimum for arr1 is: 0.23987925919948805\n"
     ]
    }
   ],
   "source": [
    "print('Mean for arr1 is:', np.mean(arr1))\n",
    "print('Median for arr1 is:',np.median(arr1))\n",
    "print('Std for arr1 is:',np.std(arr1))\n",
    "print('Maximum for arr1 is:',np.max(arr1))\n",
    "print('Minimum for arr1 is:',np.min(arr1))"
   ]
  },
  {
   "cell_type": "code",
   "execution_count": 50,
   "metadata": {},
   "outputs": [
    {
     "name": "stdout",
     "output_type": "stream",
     "text": [
      "Mean for arr2 is: -0.8703611084273881\n",
      "Median for arr2 is: -1.2975297305174323\n",
      "Std for arr2 is: 0.962933173959798\n",
      "Maximum for arr2 is: 0.8876691487258042\n",
      "Minimum for arr2 is: -2.0259264017934013\n"
     ]
    }
   ],
   "source": [
    "print('Mean for arr2 is:', np.mean(arr2))\n",
    "print('Median for arr2 is:',np.median(arr2))\n",
    "print('Std for arr2 is:',np.std(arr2))\n",
    "print('Maximum for arr2 is:',np.max(arr2))\n",
    "print('Minimum for arr2 is:',np.min(arr2))"
   ]
  },
  {
   "cell_type": "code",
   "execution_count": 51,
   "metadata": {},
   "outputs": [
    {
     "name": "stdout",
     "output_type": "stream",
     "text": [
      "There are 48 numbers are higher than 0.5 for arr1:\n",
      "[0.6669832  0.60006119 0.8988994  0.73144794 0.9642397  0.79006773\n",
      " 0.71539062 0.64338609 0.58572144 0.58972039 0.6302275  0.84240569\n",
      " 0.97704522 0.5608061  0.56462966 0.94866211 0.87268278 0.66864844\n",
      " 0.93054768 0.59134262 0.86118551 0.65472161 0.99929089 0.58666359\n",
      " 0.53649992 0.72335624 0.92132317 0.92552251 0.64701975 0.83035258\n",
      " 0.94451837 0.77924686 0.58812278 0.67770259 0.99874872 0.74260854\n",
      " 0.97244525 0.70174117 0.8071523  0.8242197  0.98509997 0.78543949\n",
      " 0.52057175 0.59224792 0.88338908 0.81408384 0.79824191 0.68842461]\n",
      "There are 52 numbers are lower than 0.5 for arr1:\n",
      "[0.00251856 0.16909817 0.11658534 0.30037516 0.21708916 0.09203532\n",
      " 0.20063319 0.48420585 0.46103293 0.08035902 0.38534347 0.24829789\n",
      " 0.24403402 0.22790634 0.46078884 0.19042659 0.15537779 0.36425573\n",
      " 0.10145926 0.05952326 0.32363206 0.32879369 0.2291307  0.10351748\n",
      " 0.49902017 0.25882696 0.07414209 0.23960095 0.36371887 0.01398492\n",
      " 0.47568685 0.00298674 0.29906643 0.03183425 0.22745964 0.40228689\n",
      " 0.21733089 0.33195162 0.43447796 0.4520809  0.1938744  0.43021586\n",
      " 0.30040859 0.41311508 0.48151741 0.01457156 0.29768097 0.30014162\n",
      " 0.19851306 0.11139518 0.20837538 0.26040676]\n",
      "There are 31 numbers are higher than 0.5 for arr2:\n",
      "[1.07168748 1.99024709 1.04460043 1.10407543 2.00069863 0.85473176\n",
      " 1.21746018 1.09296398 0.72255232 0.73980471 1.08409799 0.88653435\n",
      " 1.46853951 0.5431528  0.56228569 0.89500581 0.98056369 0.59281953\n",
      " 0.97768379 1.76864215 0.6289994  1.73204352 0.51366627 1.40754305\n",
      " 1.15988633 0.72960547 0.86395625 0.8680087  1.31339111 0.93048155\n",
      " 1.37062169]\n",
      "There are 69 numbers are lower than 0.5 for arr2:\n",
      "[-0.34597506 -0.75613848 -0.85154532  0.18274706 -0.46200796 -0.79199829\n",
      " -0.86826708  0.27781359  0.41158563 -0.12456209 -0.84320035  0.10088089\n",
      "  0.39142104 -0.32375214  0.1052052  -1.16309799 -0.06633627 -0.07883645\n",
      "  0.13496256  0.12462809 -0.15529143 -0.36684161 -0.38373381 -0.24008946\n",
      "  0.49353408  0.22487464 -0.93061442 -0.19911958  0.30676761 -0.36507993\n",
      " -0.43332405  0.31633083 -1.55925399 -0.341954   -0.87882825 -0.71568352\n",
      " -0.03885648  0.20757097 -0.35621917 -0.03373941  0.38148843  0.47222376\n",
      " -1.37730232 -0.23519033 -2.26261948  0.32830078  0.06044464 -0.33280726\n",
      " -0.38982335 -0.19636478 -0.76005235 -2.58955346  0.3557331  -1.36974408\n",
      " -0.20655983  0.18631661 -0.45305184 -1.84055274 -0.46555786 -0.98026812\n",
      " -0.97929036 -0.37850079 -0.18108686 -0.56530321 -0.2928369   0.23778757\n",
      " -0.3113778  -1.81213684 -0.65235999]\n"
     ]
    }
   ],
   "source": [
    "#100 random numbers\n",
    "import numpy as np\n",
    "arr1=np.random.rand(100)\n",
    "arr2=np.random.randn(100)\n",
    "print(\"There are %d numbers are higher than 0.5 for arr1:\"  % len(arr1[arr1>0.5]))\n",
    "print(arr1[arr1>0.5])\n",
    "print(\"There are %d numbers are lower than 0.5 for arr1:\"  % len(arr1[arr1<0.5]))\n",
    "print(arr1[arr1<0.5])\n",
    "print(\"There are %d numbers are higher than 0.5 for arr2:\"  % len(arr2[arr2>0.5]))\n",
    "print(arr2[arr2>0.5])\n",
    "print(\"There are %d numbers are lower than 0.5 for arr2:\"  % len(arr2[arr2<0.5]))\n",
    "print(arr2[arr2<0.5])"
   ]
  },
  {
   "cell_type": "code",
   "execution_count": 52,
   "metadata": {},
   "outputs": [
    {
     "name": "stdout",
     "output_type": "stream",
     "text": [
      "Mean for arr1 is: 0.4964394800329057\n",
      "Median for arr1 is: 0.4828616298364032\n",
      "Std for arr1 is: 0.2926441175904928\n",
      "Maximum for arr1 is: 0.999290892526207\n",
      "Minimum for arr1 is: 0.00251856370442316\n"
     ]
    }
   ],
   "source": [
    "print('Mean for arr1 is:', np.mean(arr1))\n",
    "print('Median for arr1 is:',np.median(arr1))\n",
    "print('Std for arr1 is:',np.std(arr1))\n",
    "print('Maximum for arr1 is:',np.max(arr1))\n",
    "print('Minimum for arr1 is:',np.min(arr1))"
   ]
  },
  {
   "cell_type": "code",
   "execution_count": 53,
   "metadata": {},
   "outputs": [
    {
     "name": "stdout",
     "output_type": "stream",
     "text": [
      "Mean for arr2 is: 0.061102805803861904\n",
      "Median for arr2 is: 0.08066276176859485\n",
      "Std for arr2 is: 0.8894322355140816\n",
      "Maximum for arr2 is: 2.0006986271721234\n",
      "Minimum for arr2 is: -2.589553460124024\n"
     ]
    }
   ],
   "source": [
    "print('Mean for arr2 is:', np.mean(arr2))\n",
    "print('Median for arr2 is:',np.median(arr2))\n",
    "print('Std for arr2 is:',np.std(arr2))\n",
    "print('Maximum for arr2 is:',np.max(arr2))\n",
    "print('Minimum for arr2 is:',np.min(arr2))"
   ]
  },
  {
   "cell_type": "code",
   "execution_count": 54,
   "metadata": {},
   "outputs": [
    {
     "name": "stdout",
     "output_type": "stream",
     "text": [
      "There are 48 numbers are higher than 0.5 for arr1:\n",
      "[0.97243149 0.80881288 0.53580858 0.791411   0.91487218 0.89672225\n",
      " 0.8684668  0.72991134 0.61840581 0.84327918 0.88824203 0.87553309\n",
      " 0.89576961 0.72816257 0.50909731 0.78256177 0.86594631 0.68848977\n",
      " 0.66641569 0.50195471 0.8182754  0.87287419 0.99163887 0.9439959\n",
      " 0.56050091 0.73474566 0.9416191  0.54397452 0.75939575 0.74080139\n",
      " 0.64070967 0.51340227 0.58397319 0.77320696 0.7857066  0.92239976\n",
      " 0.52908795 0.78894907 0.77116592 0.88054141 0.61668945 0.8249659\n",
      " 0.94029257 0.70803164 0.53460165 0.55541564 0.76707259 0.94165481]\n",
      "There are 52 numbers are lower than 0.5 for arr1:\n",
      "[0.13969892 0.0428154  0.16605739 0.22502212 0.00138034 0.13321546\n",
      " 0.39022627 0.45246941 0.00723418 0.16080488 0.07206437 0.00074613\n",
      " 0.06168285 0.28366851 0.05546892 0.27650176 0.43326684 0.00053496\n",
      " 0.10775154 0.44432367 0.35162929 0.09660197 0.32302095 0.12612578\n",
      " 0.06142846 0.12138991 0.10641121 0.30209307 0.37038507 0.41806088\n",
      " 0.23521424 0.29825519 0.27881086 0.38607245 0.18533742 0.33357685\n",
      " 0.43299974 0.2497095  0.40822942 0.26502761 0.26607671 0.36653065\n",
      " 0.46410658 0.13176644 0.09393926 0.1861225  0.45641461 0.10738967\n",
      " 0.06064093 0.46840148 0.04106488 0.46385033]\n",
      "There are 29 numbers are higher than 0.5 for arr2:\n",
      "[2.38576147 0.70524167 2.33458051 0.69644393 1.27309816 0.96497732\n",
      " 0.75280726 2.2143321  2.820072   1.53478551 0.7134673  1.71765439\n",
      " 0.70200293 1.00287546 0.62675613 1.36835828 0.67885182 1.55067471\n",
      " 0.55673158 1.40310291 0.57340212 0.98261064 1.9926641  0.98275338\n",
      " 1.19520284 1.33600722 0.5678079  0.86894785 1.14583556]\n",
      "There are 71 numbers are lower than 0.5 for arr2:\n",
      "[-1.08954831e+00  2.04454275e-02 -7.22838868e-01 -3.31642765e-01\n",
      " -2.88356089e-01 -1.30408831e+00 -2.13856392e-01 -5.70218712e-01\n",
      " -1.64578301e+00 -6.77029068e-01 -1.53037993e+00 -1.53672804e+00\n",
      " -7.67078301e-01 -6.26900756e-01  3.75865595e-01 -1.35607414e+00\n",
      " -1.71547334e+00 -6.01534174e-02  4.78106912e-01 -3.13934087e-01\n",
      "  1.21116395e-03 -5.62333952e-01 -2.99591982e-01 -1.33140143e+00\n",
      "  3.86767005e-01 -8.36268383e-01  2.87255598e-01 -1.45843861e-01\n",
      " -4.54431682e-01  1.66635071e-01 -2.93415384e-01  1.99502811e-01\n",
      "  4.54972911e-01 -9.19748640e-01 -3.74893640e-01  1.60158490e-01\n",
      " -8.50590590e-01 -9.10230215e-01 -9.84712693e-01  3.98243120e-01\n",
      "  2.11790933e-01 -4.19751859e-01 -9.93573861e-01 -2.17298437e+00\n",
      " -8.66239340e-01  4.56948075e-01  5.32473683e-02 -6.33454692e-01\n",
      "  2.64416635e-01 -1.84938392e-01 -1.28719495e+00 -5.89055998e-01\n",
      "  2.52047105e-01 -6.79389599e-01  4.79303770e-01 -6.47494719e-01\n",
      " -1.23442896e+00  9.84014423e-02 -8.23207895e-02 -9.03574019e-01\n",
      " -1.66646629e+00  4.31422323e-01  4.21159800e-01  4.12571431e-01\n",
      " -7.62120360e-01 -2.61463748e+00 -2.00009595e-01 -1.38551235e+00\n",
      " -4.43762807e-01 -2.63695153e-01 -6.20001685e-01]\n"
     ]
    }
   ],
   "source": [
    "#1000 random numbers\n",
    "import numpy as np\n",
    "arr1=np.random.rand(100)\n",
    "arr2=np.random.randn(100)\n",
    "print(\"There are %d numbers are higher than 0.5 for arr1:\"  % len(arr1[arr1>0.5]))\n",
    "print(arr1[arr1>0.5])\n",
    "print(\"There are %d numbers are lower than 0.5 for arr1:\"  % len(arr1[arr1<0.5]))\n",
    "print(arr1[arr1<0.5])\n",
    "print(\"There are %d numbers are higher than 0.5 for arr2:\"  % len(arr2[arr2>0.5]))\n",
    "print(arr2[arr2>0.5])\n",
    "print(\"There are %d numbers are lower than 0.5 for arr2:\"  % len(arr2[arr2<0.5]))\n",
    "print(arr2[arr2<0.5])"
   ]
  },
  {
   "cell_type": "code",
   "execution_count": 55,
   "metadata": {},
   "outputs": [
    {
     "name": "stdout",
     "output_type": "stream",
     "text": [
      "Mean for arr1 is: 0.48279600943798145\n",
      "Median for arr1 is: 0.4639784515111482\n",
      "Std for arr1 is: 0.3023152611189529\n",
      "Maximum for arr1 is: 0.9916388658010207\n",
      "Minimum for arr1 is: 0.0005349633695961309\n"
     ]
    }
   ],
   "source": [
    "print('Mean for arr1 is:', np.mean(arr1))\n",
    "print('Median for arr1 is:',np.median(arr1))\n",
    "print('Std for arr1 is:',np.std(arr1))\n",
    "print('Maximum for arr1 is:',np.max(arr1))\n",
    "print('Minimum for arr1 is:',np.min(arr1))"
   ]
  },
  {
   "cell_type": "code",
   "execution_count": 56,
   "metadata": {},
   "outputs": [
    {
     "name": "stdout",
     "output_type": "stream",
     "text": [
      "Mean for arr2 is: 0.002941267959900622\n",
      "Median for arr2 is: -0.029471126723514086\n",
      "Std for arr2 is: 1.0314937514757014\n",
      "Maximum for arr2 is: 2.820071999139548\n",
      "Minimum for arr2 is: -2.6146374804660497\n"
     ]
    }
   ],
   "source": [
    "print('Mean for arr2 is:', np.mean(arr2))\n",
    "print('Median for arr2 is:',np.median(arr2))\n",
    "print('Std for arr2 is:',np.std(arr2))\n",
    "print('Maximum for arr2 is:',np.max(arr2))\n",
    "print('Minimum for arr2 is:',np.min(arr2))"
   ]
  },
  {
   "cell_type": "markdown",
   "metadata": {},
   "source": [
    "### For normally distributed arrays, as the number of array elements increase,the mean will converge to 0, and the standard deviation will converge to 1. \n",
    "### While for [0,1] uniformly distributed array, as the number of array elements increase, the mean converges to 0.5, the maximum value is close to 1, and the minimum value is close to 0."
   ]
  },
  {
   "cell_type": "markdown",
   "metadata": {
    "id": "0HLJrJicvoXi"
   },
   "source": [
    "### Q4. \n",
    "\n",
    "Write a program to keep asking from the user for student names and marks until the user inserts empty string (''). And create a series including student names (index) and their mark (values). Then:\n",
    "\n",
    "Print sorted serie (sort by mark).\n",
    "\n",
    "Print average.\n",
    "\n",
    "Print name of student with the highest mark.\n",
    "\n",
    "Print all student names that have failed the course (less than 50)."
   ]
  },
  {
   "cell_type": "code",
   "execution_count": 45,
   "metadata": {
    "id": "GndfHrtsxiEN"
   },
   "outputs": [
    {
     "name": "stdin",
     "output_type": "stream",
     "text": [
      "Please enter your name:\n",
      " zofia\n",
      "Please enter your mark:\n",
      " 100\n",
      "Please enter your name:\n",
      " mike\n",
      "Please enter your mark:\n",
      " 90\n",
      "Please enter your name:\n",
      " amy\n",
      "Please enter your mark:\n",
      " 95\n",
      "Please enter your name:\n",
      " david\n",
      "Please enter your mark:\n",
      " 45\n",
      "Please enter your name:\n",
      " \n"
     ]
    },
    {
     "name": "stdout",
     "output_type": "stream",
     "text": [
      "zofia    100.0\n",
      "mike      90.0\n",
      "amy       95.0\n",
      "david     45.0\n",
      "dtype: float64\n"
     ]
    }
   ],
   "source": [
    "import pandas as pd\n",
    "x='Zofia'\n",
    "y='100'\n",
    "s=[]\n",
    "m=[]\n",
    "while (x!= '') & (y!= ''):\n",
    "    x=input('Please enter your name:\\n')\n",
    "    if (x==''):\n",
    "        break\n",
    "    s.append(x)\n",
    "    y=float(input('Please enter your mark:\\n'))\n",
    "    if (y==''):\n",
    "        break\n",
    "    m.append(y)\n",
    "   \n",
    "my_series=pd.Series(m,s)\n",
    "print(my_series)"
   ]
  },
  {
   "cell_type": "code",
   "execution_count": 46,
   "metadata": {},
   "outputs": [
    {
     "name": "stdout",
     "output_type": "stream",
     "text": [
      "david     45.0\n",
      "mike      90.0\n",
      "amy       95.0\n",
      "zofia    100.0\n",
      "dtype: float64\n"
     ]
    }
   ],
   "source": [
    "sorted=my_series.sort_values(ascending=True)\n",
    "print(sorted)"
   ]
  },
  {
   "cell_type": "code",
   "execution_count": 47,
   "metadata": {},
   "outputs": [
    {
     "name": "stdout",
     "output_type": "stream",
     "text": [
      "Average is: 82.5\n"
     ]
    }
   ],
   "source": [
    "print('Average is:',my_series.mean())"
   ]
  },
  {
   "cell_type": "code",
   "execution_count": 48,
   "metadata": {},
   "outputs": [
    {
     "name": "stdout",
     "output_type": "stream",
     "text": [
      "Name of student with highest mark is: zofia\n"
     ]
    }
   ],
   "source": [
    "max_index=sorted.index[-1]\n",
    "print('Name of student with highest mark is:',max_index)"
   ]
  },
  {
   "cell_type": "code",
   "execution_count": 65,
   "metadata": {},
   "outputs": [
    {
     "name": "stdout",
     "output_type": "stream",
     "text": [
      "Students that have failed the course: ['david']\n"
     ]
    }
   ],
   "source": [
    "fail=list(my_series[my_series<50].index)\n",
    "print('Students that have failed the course:',fail)"
   ]
  },
  {
   "cell_type": "code",
   "execution_count": null,
   "metadata": {},
   "outputs": [],
   "source": []
  }
 ],
 "metadata": {
  "colab": {
   "collapsed_sections": [],
   "name": "Assignment 3.ipynb",
   "provenance": []
  },
  "kernelspec": {
   "display_name": "Python 3",
   "language": "python",
   "name": "python3"
  },
  "language_info": {
   "codemirror_mode": {
    "name": "ipython",
    "version": 3
   },
   "file_extension": ".py",
   "mimetype": "text/x-python",
   "name": "python",
   "nbconvert_exporter": "python",
   "pygments_lexer": "ipython3",
   "version": "3.7.4"
  }
 },
 "nbformat": 4,
 "nbformat_minor": 4
}
